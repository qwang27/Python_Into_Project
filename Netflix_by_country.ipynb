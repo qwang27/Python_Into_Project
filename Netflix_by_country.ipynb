{
 "cells": [
  {
   "cell_type": "code",
   "execution_count": 3,
   "id": "283163a7",
   "metadata": {},
   "outputs": [],
   "source": [
    "import pandas as pd\n",
    "from pandas import Series, DataFrame\n",
    "import datetime \n",
    "from datetime import datetime"
   ]
  },
  {
   "cell_type": "code",
   "execution_count": 5,
   "id": "e949d56a",
   "metadata": {},
   "outputs": [],
   "source": [
    "netflix = pd.read_csv('/Users/chereowang27/NYCDSA/Python_Intro_Project/data/netflix_list.csv', header=0)\n",
    "\n",
    "netflix['data'] = 'Netflix'\n",
    "nf_movie = netflix[(netflix['type']=='movie')|(netflix['type']=='tvMovie')&(netflix['startYear'] < 2020)].rename(columns={'genres':'genre','startYear': 'added_atyear'})\n",
    "\n",
    "countries = set(nf_movie['orign_country'].str.cat(sep = ',').split(','))\n",
    "\n"
   ]
  },
  {
   "cell_type": "code",
   "execution_count": 7,
   "id": "b01ee593",
   "metadata": {},
   "outputs": [],
   "source": [
    "def c_count(col,c):\n",
    "    return col.str.contains(c).sum()\n",
    "\n",
    "# This generates a data frame of counts of each genre by time (either month or year)\n",
    "def agg_df(group):\n",
    "    agg_df = []\n",
    "    for c in countries:\n",
    "        tmp = d_movie.groupby(group).agg(\n",
    "            **{c : ('country', lambda col: c_count(col,c))}\n",
    "        )\n",
    "        agg_df.append(tmp)\n",
    "    df_agg = pd.concat(agg_df, axis=1).apply(lambda col: col.cumsum())\n",
    "    return df_agg"
   ]
  },
  {
   "cell_type": "code",
   "execution_count": null,
   "id": "d564e541",
   "metadata": {},
   "outputs": [],
   "source": []
  }
 ],
 "metadata": {
  "kernelspec": {
   "display_name": "Python 3",
   "language": "python",
   "name": "python3"
  },
  "language_info": {
   "codemirror_mode": {
    "name": "ipython",
    "version": 3
   },
   "file_extension": ".py",
   "mimetype": "text/x-python",
   "name": "python",
   "nbconvert_exporter": "python",
   "pygments_lexer": "ipython3",
   "version": "3.8.8"
  }
 },
 "nbformat": 4,
 "nbformat_minor": 5
}
